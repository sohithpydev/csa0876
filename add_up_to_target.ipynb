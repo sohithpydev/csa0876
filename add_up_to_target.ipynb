{
  "nbformat": 4,
  "nbformat_minor": 0,
  "metadata": {
    "colab": {
      "provenance": []
    },
    "kernelspec": {
      "name": "python3",
      "display_name": "Python 3"
    },
    "language_info": {
      "name": "python"
    }
  },
  "cells": [
    {
      "cell_type": "markdown",
      "source": [
        "Given an array of integer nums and an integer target, return indices of the two numbers such that they add up to the target. You may assume that each input would have exactly one solution, and you may not use the same element twice. You can return the answer in any order.\n"
      ],
      "metadata": {
        "id": "STZH1oA80S9-"
      }
    },
    {
      "cell_type": "code",
      "source": [
        "def two_sum(nums, target):\n",
        "    # Create a dictionary to store the indices of elements\n",
        "    num_indices = {}\n",
        "\n",
        "    # Iterate through the array\n",
        "    for i, num in enumerate(nums):\n",
        "        # Calculate the complement needed to reach the target\n",
        "        complement = target - num\n",
        "\n",
        "        # If the complement is in the dictionary, return the indices\n",
        "        if complement in num_indices:\n",
        "            return [num_indices[complement], i]\n",
        "\n",
        "        # Otherwise, add the current element's index to the dictionary\n",
        "        num_indices[num] = i\n",
        "\n",
        "    # If no solution is found, return an empty list\n",
        "    return []\n",
        "\n",
        "# Test Case 1\n",
        "nums1 = [2, 7, 11, 15]\n",
        "target1 = 9\n",
        "print(two_sum(nums1, target1))\n",
        "\n",
        "# Test Case 2\n",
        "nums2 = [3, 2, 4]\n",
        "target2 = 6\n",
        "print(two_sum(nums2, target2))\n"
      ],
      "metadata": {
        "id": "x5iBNY8K0UtM"
      },
      "execution_count": null,
      "outputs": []
    }
  ]
}